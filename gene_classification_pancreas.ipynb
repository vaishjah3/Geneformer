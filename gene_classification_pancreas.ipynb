{
 "cells": [
  {
   "cell_type": "markdown",
   "id": "08f41458-5304-48c5-9e92-f9b56ab052c4",
   "metadata": {},
   "source": [
    "## Geneformer Fine-Tuning for Classification of Dosage-Sensitive vs. -Insensitive Transcription Factors (TFs)"
   ]
  },
  {
   "cell_type": "markdown",
   "id": "79539e95-2c9c-4162-835c-f0d158abb15d",
   "metadata": {},
   "source": [
    "### Please note that, as usual with deep learning models, we **highly** recommend tuning learning hyperparameters for all fine-tuning applications as this can significantly improve model performance. Example below uses default hyperparameters, but please see the \"hyperparam_optimiz_for_disease_classifier\" script for an example of how to tune hyperparameters for downstream applications."
   ]
  },
  {
   "cell_type": "markdown",
   "id": "51b4852a-9f03-4bc3-ba33-79eaa4582d50",
   "metadata": {},
   "source": [
    "### Train gene classifier with 5-fold cross-validation:"
   ]
  },
  {
   "cell_type": "code",
   "execution_count": 1,
   "id": "f150ef0b",
   "metadata": {},
   "outputs": [],
   "source": [
    "import sys\n",
    "if '/part-vol-2/weaver-core/particle_transformer_quant/notebooks/Fun_Gen/Geneformer' not in sys.path:\n",
    "    sys.path.append('/part-vol-2/weaver-core/particle_transformer_quant/notebooks/Fun_Gen/Geneformer')"
   ]
  },
  {
   "cell_type": "code",
   "execution_count": 2,
   "id": "58d59e09-5e6c-4fba-ba2b-3aee103869fd",
   "metadata": {},
   "outputs": [
    {
     "name": "stderr",
     "output_type": "stream",
     "text": [
      "/part-vol-2/.venv/lib/python3.10/site-packages/tqdm/auto.py:21: TqdmWarning: IProgress not found. Please update jupyter and ipywidgets. See https://ipywidgets.readthedocs.io/en/stable/user_install.html\n",
      "  from .autonotebook import tqdm as notebook_tqdm\n"
     ]
    }
   ],
   "source": [
    "import datetime\n",
    "import pickle\n",
    "from geneformer import Classifier\n",
    "\n",
    "current_date = datetime.datetime.now()\n",
    "datestamp = f\"{str(current_date.year)[-2:]}{current_date.month:02d}{current_date.day:02d}{current_date.hour:02d}{current_date.minute:02d}{current_date.second:02d}\"\n",
    "datestamp_min = f\"{str(current_date.year)[-2:]}{current_date.month:02d}{current_date.day:02d}\"\n",
    "\n",
    "output_prefix = \"tf_dosage_sens_test\"\n",
    "output_dir = f\"/part-vol-2/weaver-core/particle_transformer_quant/notebooks/Fun_Gen/output_directory_gene_class_pancreas/{datestamp}\"\n",
    "!mkdir $output_dir"
   ]
  },
  {
   "cell_type": "code",
   "execution_count": 3,
   "id": "9e33942f-39e4-4db4-a3de-5949bed9fa5d",
   "metadata": {},
   "outputs": [],
   "source": [
    "# Example input_data_file: https://huggingface.co/datasets/ctheodoris/Genecorpus-30M/blob/main/example_input_files/gene_classification/dosage_sensitive_tfs/dosage_sensitivity_TFs.pickle\n",
    "with open(\"/part-vol-2/weaver-core/particle_transformer_quant/notebooks/Fun_Gen/Data/Genecorpus-30M/example_input_files/gene_classification/dosage_sensitive_tfs/dosage_sensitivity_TFs.pickle\", \"rb\") as fp:\n",
    "    gene_class_dict = pickle.load(fp)"
   ]
  },
  {
   "cell_type": "code",
   "execution_count": 4,
   "id": "f4053ee9-3506-4c97-b544-8d667f0adfab",
   "metadata": {},
   "outputs": [
    {
     "name": "stderr",
     "output_type": "stream",
     "text": [
      "Hyperparameter tuning is highly recommended for optimal results. No training_args provided; using default hyperparameters.\n"
     ]
    }
   ],
   "source": [
    "cc = Classifier(classifier=\"gene\",\n",
    "                gene_class_dict = gene_class_dict,\n",
    "                max_ncells = 10_000,\n",
    "                freeze_layers = 5,  # me changed to 5 from 4\n",
    "                num_crossval_splits = 5, \n",
    "                forward_batch_size=64, # me changed to 64 from 200\n",
    "                nproc=8)  # me changed to 8 from 18"
   ]
  },
  {
   "cell_type": "code",
   "execution_count": 5,
   "id": "e4855e53-1cd7-4af0-b786-02b6c0e55f8c",
   "metadata": {},
   "outputs": [
    {
     "name": "stderr",
     "output_type": "stream",
     "text": [
      "Filter (num_proc=8): 100%|██████████| 16382/16382 [00:01<00:00, 8930.12 examples/s]\n",
      "Map (num_proc=8): 100%|██████████| 16381/16381 [00:03<00:00, 4507.59 examples/s]\n",
      "Saving the dataset (1/1 shards): 100%|██████████| 16381/16381 [00:00<00:00, 30292.82 examples/s]\n"
     ]
    }
   ],
   "source": [
    "# Example input_data_file: https://huggingface.co/datasets/ctheodoris/Genecorpus-30M/tree/main/example_input_files/gene_classification/dosage_sensitive_tfs/gc-30M_sample50k.dataset\n",
    "cc.prepare_data(input_data_file=\"/part-vol-2/weaver-core/particle_transformer_quant/notebooks/Fun_Gen/Data/Genecorpus-30M/Pancreas/data/datasets/geneformer/pancreas_scib/pancreas_scib.dataset\",\n",
    "                output_directory=output_dir,\n",
    "                output_prefix=output_prefix)"
   ]
  },
  {
   "cell_type": "code",
   "execution_count": 6,
   "id": "3a1b2c1b-36e0-4b92-9e1d-33b3328f41a2",
   "metadata": {},
   "outputs": [
    {
     "name": "stderr",
     "output_type": "stream",
     "text": [
      "0it [00:00, ?it/s]"
     ]
    },
    {
     "name": "stdout",
     "output_type": "stream",
     "text": [
      "****** Validation split: 1/5 ******\n",
      "\n"
     ]
    },
    {
     "name": "stderr",
     "output_type": "stream",
     "text": [
      "Filter (num_proc=8): 100%|██████████| 16381/16381 [00:02<00:00, 5556.10 examples/s]\n",
      "Map (num_proc=8): 100%|██████████| 10000/10000 [00:02<00:00, 4809.30 examples/s]\n",
      "Filter (num_proc=8): 100%|██████████| 16381/16381 [00:02<00:00, 5596.64 examples/s]\n",
      "Map (num_proc=8): 100%|██████████| 10000/10000 [00:01<00:00, 5135.92 examples/s]\n",
      "Filter (num_proc=8): 100%|██████████| 16381/16381 [00:02<00:00, 5711.07 examples/s]\n",
      "Map (num_proc=8): 100%|██████████| 10000/10000 [00:02<00:00, 4332.81 examples/s]\n",
      "Some weights of BertForTokenClassification were not initialized from the model checkpoint at /part-vol-2/weaver-core/particle_transformer_quant/notebooks/Fun_Gen/Geneformer and are newly initialized: ['classifier.bias', 'classifier.weight']\n",
      "You should probably TRAIN this model on a down-stream task to be able to use it for predictions and inference.\n",
      "/part-vol-2/.venv/lib/python3.10/site-packages/transformers/training_args.py:1474: FutureWarning: `evaluation_strategy` is deprecated and will be removed in version 4.46 of 🤗 Transformers. Use `eval_strategy` instead\n",
      "  warnings.warn(\n",
      "Detected kernel version 5.4.0, which is below the recommended minimum of 5.5.0; this can cause the process to hang. It is recommended to upgrade the kernel to the minimum version or higher.\n",
      "/part-vol-2/weaver-core/particle_transformer_quant/notebooks/Fun_Gen/Geneformer/geneformer/collator_for_classification.py:581: UserWarning: To copy construct from a tensor, it is recommended to use sourceTensor.clone().detach() or sourceTensor.clone().detach().requires_grad_(True), rather than torch.tensor(sourceTensor).\n",
      "  batch = {k: torch.tensor(v, dtype=torch.int64) for k, v in batch.items()}\n",
      "/part-vol-2/.venv/lib/python3.10/site-packages/torch/nn/parallel/_functions.py:68: UserWarning: Was asked to gather along dimension 0, but all input tensors were scalars; will instead unsqueeze and return a vector.\n",
      "  warnings.warn('Was asked to gather along dimension 0, but all '\n"
     ]
    },
    {
     "data": {
      "text/html": [
       "\n",
       "    <div>\n",
       "      \n",
       "      <progress value='417' max='417' style='width:300px; height:20px; vertical-align: middle;'></progress>\n",
       "      [417/417 03:05, Epoch 1/1]\n",
       "    </div>\n",
       "    <table border=\"1\" class=\"dataframe\">\n",
       "  <thead>\n",
       " <tr style=\"text-align: left;\">\n",
       "      <th>Step</th>\n",
       "      <th>Training Loss</th>\n",
       "    </tr>\n",
       "  </thead>\n",
       "  <tbody>\n",
       "    <tr>\n",
       "      <td>83</td>\n",
       "      <td>0.630300</td>\n",
       "    </tr>\n",
       "    <tr>\n",
       "      <td>166</td>\n",
       "      <td>0.561000</td>\n",
       "    </tr>\n",
       "    <tr>\n",
       "      <td>249</td>\n",
       "      <td>0.493800</td>\n",
       "    </tr>\n",
       "    <tr>\n",
       "      <td>332</td>\n",
       "      <td>0.413500</td>\n",
       "    </tr>\n",
       "    <tr>\n",
       "      <td>415</td>\n",
       "      <td>0.322700</td>\n",
       "    </tr>\n",
       "  </tbody>\n",
       "</table><p>"
      ],
      "text/plain": [
       "<IPython.core.display.HTML object>"
      ]
     },
     "metadata": {},
     "output_type": "display_data"
    },
    {
     "name": "stderr",
     "output_type": "stream",
     "text": [
      "100%|██████████| 157/157 [03:42<00:00,  1.42s/it]\n",
      "1it [07:40, 460.48s/it]"
     ]
    },
    {
     "name": "stdout",
     "output_type": "stream",
     "text": [
      "****** Validation split: 2/5 ******\n",
      "\n"
     ]
    },
    {
     "name": "stderr",
     "output_type": "stream",
     "text": [
      "Filter (num_proc=8): 100%|██████████| 16381/16381 [00:02<00:00, 5622.67 examples/s]\n",
      "Map (num_proc=8): 100%|██████████| 10000/10000 [00:02<00:00, 4513.15 examples/s]\n",
      "Filter (num_proc=8): 100%|██████████| 16381/16381 [00:02<00:00, 5627.96 examples/s]\n",
      "Map (num_proc=8): 100%|██████████| 10000/10000 [00:02<00:00, 4872.23 examples/s]\n",
      "Filter (num_proc=8): 100%|██████████| 16381/16381 [00:03<00:00, 5411.85 examples/s]\n",
      "Map (num_proc=8): 100%|██████████| 10000/10000 [00:02<00:00, 4986.44 examples/s]\n",
      "Some weights of BertForTokenClassification were not initialized from the model checkpoint at /part-vol-2/weaver-core/particle_transformer_quant/notebooks/Fun_Gen/Geneformer and are newly initialized: ['classifier.bias', 'classifier.weight']\n",
      "You should probably TRAIN this model on a down-stream task to be able to use it for predictions and inference.\n",
      "/part-vol-2/.venv/lib/python3.10/site-packages/transformers/training_args.py:1474: FutureWarning: `evaluation_strategy` is deprecated and will be removed in version 4.46 of 🤗 Transformers. Use `eval_strategy` instead\n",
      "  warnings.warn(\n",
      "Detected kernel version 5.4.0, which is below the recommended minimum of 5.5.0; this can cause the process to hang. It is recommended to upgrade the kernel to the minimum version or higher.\n",
      "/part-vol-2/weaver-core/particle_transformer_quant/notebooks/Fun_Gen/Geneformer/geneformer/collator_for_classification.py:581: UserWarning: To copy construct from a tensor, it is recommended to use sourceTensor.clone().detach() or sourceTensor.clone().detach().requires_grad_(True), rather than torch.tensor(sourceTensor).\n",
      "  batch = {k: torch.tensor(v, dtype=torch.int64) for k, v in batch.items()}\n",
      "/part-vol-2/.venv/lib/python3.10/site-packages/torch/nn/parallel/_functions.py:68: UserWarning: Was asked to gather along dimension 0, but all input tensors were scalars; will instead unsqueeze and return a vector.\n",
      "  warnings.warn('Was asked to gather along dimension 0, but all '\n"
     ]
    },
    {
     "data": {
      "text/html": [
       "\n",
       "    <div>\n",
       "      \n",
       "      <progress value='417' max='417' style='width:300px; height:20px; vertical-align: middle;'></progress>\n",
       "      [417/417 03:04, Epoch 1/1]\n",
       "    </div>\n",
       "    <table border=\"1\" class=\"dataframe\">\n",
       "  <thead>\n",
       " <tr style=\"text-align: left;\">\n",
       "      <th>Step</th>\n",
       "      <th>Training Loss</th>\n",
       "    </tr>\n",
       "  </thead>\n",
       "  <tbody>\n",
       "    <tr>\n",
       "      <td>83</td>\n",
       "      <td>0.712200</td>\n",
       "    </tr>\n",
       "    <tr>\n",
       "      <td>166</td>\n",
       "      <td>0.602800</td>\n",
       "    </tr>\n",
       "    <tr>\n",
       "      <td>249</td>\n",
       "      <td>0.531600</td>\n",
       "    </tr>\n",
       "    <tr>\n",
       "      <td>332</td>\n",
       "      <td>0.429500</td>\n",
       "    </tr>\n",
       "    <tr>\n",
       "      <td>415</td>\n",
       "      <td>0.318000</td>\n",
       "    </tr>\n",
       "  </tbody>\n",
       "</table><p>"
      ],
      "text/plain": [
       "<IPython.core.display.HTML object>"
      ]
     },
     "metadata": {},
     "output_type": "display_data"
    },
    {
     "name": "stderr",
     "output_type": "stream",
     "text": [
      "100%|██████████| 157/157 [03:41<00:00,  1.41s/it]\n",
      "2it [15:11, 454.65s/it]"
     ]
    },
    {
     "name": "stdout",
     "output_type": "stream",
     "text": [
      "****** Validation split: 3/5 ******\n",
      "\n"
     ]
    },
    {
     "name": "stderr",
     "output_type": "stream",
     "text": [
      "Filter (num_proc=8): 100%|██████████| 16381/16381 [00:02<00:00, 5641.69 examples/s]\n",
      "Map (num_proc=8): 100%|██████████| 10000/10000 [00:02<00:00, 4439.22 examples/s]\n",
      "Filter (num_proc=8): 100%|██████████| 16381/16381 [00:02<00:00, 5585.91 examples/s]\n",
      "Map (num_proc=8): 100%|██████████| 10000/10000 [00:01<00:00, 5073.22 examples/s]\n",
      "Filter (num_proc=8): 100%|██████████| 16381/16381 [00:02<00:00, 5465.33 examples/s]\n",
      "Map (num_proc=8): 100%|██████████| 10000/10000 [00:01<00:00, 5099.77 examples/s]\n",
      "Some weights of BertForTokenClassification were not initialized from the model checkpoint at /part-vol-2/weaver-core/particle_transformer_quant/notebooks/Fun_Gen/Geneformer and are newly initialized: ['classifier.bias', 'classifier.weight']\n",
      "You should probably TRAIN this model on a down-stream task to be able to use it for predictions and inference.\n",
      "/part-vol-2/.venv/lib/python3.10/site-packages/transformers/training_args.py:1474: FutureWarning: `evaluation_strategy` is deprecated and will be removed in version 4.46 of 🤗 Transformers. Use `eval_strategy` instead\n",
      "  warnings.warn(\n",
      "Detected kernel version 5.4.0, which is below the recommended minimum of 5.5.0; this can cause the process to hang. It is recommended to upgrade the kernel to the minimum version or higher.\n",
      "/part-vol-2/weaver-core/particle_transformer_quant/notebooks/Fun_Gen/Geneformer/geneformer/collator_for_classification.py:581: UserWarning: To copy construct from a tensor, it is recommended to use sourceTensor.clone().detach() or sourceTensor.clone().detach().requires_grad_(True), rather than torch.tensor(sourceTensor).\n",
      "  batch = {k: torch.tensor(v, dtype=torch.int64) for k, v in batch.items()}\n",
      "/part-vol-2/.venv/lib/python3.10/site-packages/torch/nn/parallel/_functions.py:68: UserWarning: Was asked to gather along dimension 0, but all input tensors were scalars; will instead unsqueeze and return a vector.\n",
      "  warnings.warn('Was asked to gather along dimension 0, but all '\n"
     ]
    },
    {
     "data": {
      "text/html": [
       "\n",
       "    <div>\n",
       "      \n",
       "      <progress value='417' max='417' style='width:300px; height:20px; vertical-align: middle;'></progress>\n",
       "      [417/417 03:05, Epoch 1/1]\n",
       "    </div>\n",
       "    <table border=\"1\" class=\"dataframe\">\n",
       "  <thead>\n",
       " <tr style=\"text-align: left;\">\n",
       "      <th>Step</th>\n",
       "      <th>Training Loss</th>\n",
       "    </tr>\n",
       "  </thead>\n",
       "  <tbody>\n",
       "    <tr>\n",
       "      <td>83</td>\n",
       "      <td>0.715000</td>\n",
       "    </tr>\n",
       "    <tr>\n",
       "      <td>166</td>\n",
       "      <td>0.609100</td>\n",
       "    </tr>\n",
       "    <tr>\n",
       "      <td>249</td>\n",
       "      <td>0.546100</td>\n",
       "    </tr>\n",
       "    <tr>\n",
       "      <td>332</td>\n",
       "      <td>0.445700</td>\n",
       "    </tr>\n",
       "    <tr>\n",
       "      <td>415</td>\n",
       "      <td>0.323500</td>\n",
       "    </tr>\n",
       "  </tbody>\n",
       "</table><p>"
      ],
      "text/plain": [
       "<IPython.core.display.HTML object>"
      ]
     },
     "metadata": {},
     "output_type": "display_data"
    },
    {
     "name": "stderr",
     "output_type": "stream",
     "text": [
      "100%|██████████| 157/157 [03:44<00:00,  1.43s/it]\n",
      "3it [22:44, 454.03s/it]"
     ]
    },
    {
     "name": "stdout",
     "output_type": "stream",
     "text": [
      "****** Validation split: 4/5 ******\n",
      "\n"
     ]
    },
    {
     "name": "stderr",
     "output_type": "stream",
     "text": [
      "Filter (num_proc=8): 100%|██████████| 16381/16381 [00:02<00:00, 5737.91 examples/s]\n",
      "Map (num_proc=8): 100%|██████████| 10000/10000 [00:02<00:00, 4718.01 examples/s]\n",
      "Filter (num_proc=8): 100%|██████████| 16381/16381 [00:02<00:00, 5467.46 examples/s]\n",
      "Map (num_proc=8): 100%|██████████| 10000/10000 [00:02<00:00, 4793.53 examples/s]\n",
      "Filter (num_proc=8): 100%|██████████| 16381/16381 [00:03<00:00, 5220.62 examples/s]\n",
      "Map (num_proc=8): 100%|██████████| 10000/10000 [00:02<00:00, 4823.48 examples/s]\n",
      "Some weights of BertForTokenClassification were not initialized from the model checkpoint at /part-vol-2/weaver-core/particle_transformer_quant/notebooks/Fun_Gen/Geneformer and are newly initialized: ['classifier.bias', 'classifier.weight']\n",
      "You should probably TRAIN this model on a down-stream task to be able to use it for predictions and inference.\n",
      "/part-vol-2/.venv/lib/python3.10/site-packages/transformers/training_args.py:1474: FutureWarning: `evaluation_strategy` is deprecated and will be removed in version 4.46 of 🤗 Transformers. Use `eval_strategy` instead\n",
      "  warnings.warn(\n",
      "Detected kernel version 5.4.0, which is below the recommended minimum of 5.5.0; this can cause the process to hang. It is recommended to upgrade the kernel to the minimum version or higher.\n",
      "/part-vol-2/weaver-core/particle_transformer_quant/notebooks/Fun_Gen/Geneformer/geneformer/collator_for_classification.py:581: UserWarning: To copy construct from a tensor, it is recommended to use sourceTensor.clone().detach() or sourceTensor.clone().detach().requires_grad_(True), rather than torch.tensor(sourceTensor).\n",
      "  batch = {k: torch.tensor(v, dtype=torch.int64) for k, v in batch.items()}\n",
      "/part-vol-2/.venv/lib/python3.10/site-packages/torch/nn/parallel/_functions.py:68: UserWarning: Was asked to gather along dimension 0, but all input tensors were scalars; will instead unsqueeze and return a vector.\n",
      "  warnings.warn('Was asked to gather along dimension 0, but all '\n"
     ]
    },
    {
     "data": {
      "text/html": [
       "\n",
       "    <div>\n",
       "      \n",
       "      <progress value='417' max='417' style='width:300px; height:20px; vertical-align: middle;'></progress>\n",
       "      [417/417 03:05, Epoch 1/1]\n",
       "    </div>\n",
       "    <table border=\"1\" class=\"dataframe\">\n",
       "  <thead>\n",
       " <tr style=\"text-align: left;\">\n",
       "      <th>Step</th>\n",
       "      <th>Training Loss</th>\n",
       "    </tr>\n",
       "  </thead>\n",
       "  <tbody>\n",
       "    <tr>\n",
       "      <td>83</td>\n",
       "      <td>0.698600</td>\n",
       "    </tr>\n",
       "    <tr>\n",
       "      <td>166</td>\n",
       "      <td>0.588100</td>\n",
       "    </tr>\n",
       "    <tr>\n",
       "      <td>249</td>\n",
       "      <td>0.515100</td>\n",
       "    </tr>\n",
       "    <tr>\n",
       "      <td>332</td>\n",
       "      <td>0.414300</td>\n",
       "    </tr>\n",
       "    <tr>\n",
       "      <td>415</td>\n",
       "      <td>0.299600</td>\n",
       "    </tr>\n",
       "  </tbody>\n",
       "</table><p>"
      ],
      "text/plain": [
       "<IPython.core.display.HTML object>"
      ]
     },
     "metadata": {},
     "output_type": "display_data"
    },
    {
     "name": "stderr",
     "output_type": "stream",
     "text": [
      "100%|██████████| 157/157 [03:44<00:00,  1.43s/it]\n",
      "4it [30:19, 454.43s/it]"
     ]
    },
    {
     "name": "stdout",
     "output_type": "stream",
     "text": [
      "****** Validation split: 5/5 ******\n",
      "\n"
     ]
    },
    {
     "name": "stderr",
     "output_type": "stream",
     "text": [
      "Filter (num_proc=8): 100%|██████████| 16381/16381 [00:03<00:00, 5248.93 examples/s]\n",
      "Map (num_proc=8): 100%|██████████| 10000/10000 [00:02<00:00, 4519.71 examples/s]\n",
      "Filter (num_proc=8): 100%|██████████| 16381/16381 [00:02<00:00, 5490.19 examples/s]\n",
      "Map (num_proc=8): 100%|██████████| 10000/10000 [00:02<00:00, 4913.38 examples/s]\n",
      "Filter (num_proc=8): 100%|██████████| 16381/16381 [00:03<00:00, 5460.07 examples/s]\n",
      "Map (num_proc=8): 100%|██████████| 10000/10000 [00:02<00:00, 4725.09 examples/s]\n",
      "Some weights of BertForTokenClassification were not initialized from the model checkpoint at /part-vol-2/weaver-core/particle_transformer_quant/notebooks/Fun_Gen/Geneformer and are newly initialized: ['classifier.bias', 'classifier.weight']\n",
      "You should probably TRAIN this model on a down-stream task to be able to use it for predictions and inference.\n",
      "/part-vol-2/.venv/lib/python3.10/site-packages/transformers/training_args.py:1474: FutureWarning: `evaluation_strategy` is deprecated and will be removed in version 4.46 of 🤗 Transformers. Use `eval_strategy` instead\n",
      "  warnings.warn(\n",
      "Detected kernel version 5.4.0, which is below the recommended minimum of 5.5.0; this can cause the process to hang. It is recommended to upgrade the kernel to the minimum version or higher.\n",
      "/part-vol-2/weaver-core/particle_transformer_quant/notebooks/Fun_Gen/Geneformer/geneformer/collator_for_classification.py:581: UserWarning: To copy construct from a tensor, it is recommended to use sourceTensor.clone().detach() or sourceTensor.clone().detach().requires_grad_(True), rather than torch.tensor(sourceTensor).\n",
      "  batch = {k: torch.tensor(v, dtype=torch.int64) for k, v in batch.items()}\n",
      "/part-vol-2/.venv/lib/python3.10/site-packages/torch/nn/parallel/_functions.py:68: UserWarning: Was asked to gather along dimension 0, but all input tensors were scalars; will instead unsqueeze and return a vector.\n",
      "  warnings.warn('Was asked to gather along dimension 0, but all '\n"
     ]
    },
    {
     "data": {
      "text/html": [
       "\n",
       "    <div>\n",
       "      \n",
       "      <progress value='417' max='417' style='width:300px; height:20px; vertical-align: middle;'></progress>\n",
       "      [417/417 03:05, Epoch 1/1]\n",
       "    </div>\n",
       "    <table border=\"1\" class=\"dataframe\">\n",
       "  <thead>\n",
       " <tr style=\"text-align: left;\">\n",
       "      <th>Step</th>\n",
       "      <th>Training Loss</th>\n",
       "    </tr>\n",
       "  </thead>\n",
       "  <tbody>\n",
       "    <tr>\n",
       "      <td>83</td>\n",
       "      <td>0.704000</td>\n",
       "    </tr>\n",
       "    <tr>\n",
       "      <td>166</td>\n",
       "      <td>0.595500</td>\n",
       "    </tr>\n",
       "    <tr>\n",
       "      <td>249</td>\n",
       "      <td>0.518200</td>\n",
       "    </tr>\n",
       "    <tr>\n",
       "      <td>332</td>\n",
       "      <td>0.419200</td>\n",
       "    </tr>\n",
       "    <tr>\n",
       "      <td>415</td>\n",
       "      <td>0.312500</td>\n",
       "    </tr>\n",
       "  </tbody>\n",
       "</table><p>"
      ],
      "text/plain": [
       "<IPython.core.display.HTML object>"
      ]
     },
     "metadata": {},
     "output_type": "display_data"
    },
    {
     "name": "stderr",
     "output_type": "stream",
     "text": [
      "100%|██████████| 157/157 [03:43<00:00,  1.43s/it]\n",
      "4it [37:52, 568.19s/it]\n"
     ]
    }
   ],
   "source": [
    "# 6 layer Geneformer: https://huggingface.co/ctheodoris/Geneformer/blob/main/model.safetensors\n",
    "all_metrics = cc.validate(model_directory=\"/part-vol-2/weaver-core/particle_transformer_quant/notebooks/Fun_Gen/Geneformer\",\n",
    "                          prepared_input_data_file=f\"{output_dir}/{output_prefix}_labeled.dataset\",\n",
    "                          id_class_dict_file=f\"{output_dir}/{output_prefix}_id_class_dict.pkl\",\n",
    "                          output_directory=output_dir,\n",
    "                          output_prefix=output_prefix)"
   ]
  },
  {
   "cell_type": "code",
   "execution_count": 7,
   "id": "11a1329b-4968-45f3-ac7a-2438b574404e",
   "metadata": {},
   "outputs": [
    {
     "data": {
      "text/plain": [
       "<Figure size 1000x1000 with 0 Axes>"
      ]
     },
     "metadata": {},
     "output_type": "display_data"
    },
    {
     "data": {
      "image/png": "[encoded data removed]",
      "text/plain": [
       "<Figure size 640x480 with 2 Axes>"
      ]
     },
     "metadata": {},
     "output_type": "display_data"
    }
   ],
   "source": [
    "cc.plot_conf_mat(\n",
    "    conf_mat_dict={\"Geneformer\": all_metrics[\"conf_matrix\"]},\n",
    "    output_directory=output_dir,\n",
    "    output_prefix=output_prefix,\n",
    ")"
   ]
  },
  {
   "cell_type": "code",
   "execution_count": 8,
   "id": "edf6ffd9-8b84-4d31-8b39-11959140382f",
   "metadata": {},
   "outputs": [
    {
     "data": {
      "image/png": "[encoded data removed]",
      "text/plain": [
       "<Figure size 1000x800 with 1 Axes>"
      ]
     },
     "metadata": {},
     "output_type": "display_data"
    }
   ],
   "source": [
    "cc.plot_roc(\n",
    "    roc_metric_dict={\"Geneformer\": all_metrics[\"all_roc_metrics\"]},\n",
    "    model_style_dict={\"Geneformer\": {\"color\": \"red\", \"linestyle\": \"-\"}},\n",
    "    title=\"Dosage-sensitive vs -insensitive factors\",\n",
    "    output_directory=output_dir,\n",
    "    output_prefix=output_prefix,\n",
    ")"
   ]
  },
  {
   "cell_type": "code",
   "execution_count": 9,
   "id": "d10ac27f-8d70-400e-8a00-d0b84c1d02b4",
   "metadata": {},
   "outputs": [
    {
     "data": {
      "text/plain": [
       "{'conf_matrix':                         Dosage-sensitive TFs  Dosage-insensitive TFs\n",
       " Dosage-sensitive TFs                 19327.0                 18831.0\n",
       " Dosage-insensitive TFs                6849.0                 84569.0,\n",
       " 'macro_f1': [0.7209819690640873,\n",
       "  0.7788751337375434,\n",
       "  0.8643684903365283,\n",
       "  0.5626465870617767,\n",
       "  0.6962523432456846],\n",
       " 'acc': [0.8184071320238228,\n",
       "  0.8020628683693517,\n",
       "  0.9030197214396254,\n",
       "  0.7081590850900401,\n",
       "  0.7722667638483965],\n",
       " 'all_roc_metrics': {'mean_tpr': array([0.        , 0.18130065, 0.23158578, 0.26588484, 0.29190985,\n",
       "         0.31403392, 0.33724091, 0.35783864, 0.37893664, 0.40105815,\n",
       "         0.42293938, 0.44316834, 0.46620507, 0.48704312, 0.50989949,\n",
       "         0.53151093, 0.55093731, 0.57485591, 0.59283679, 0.61023142,\n",
       "         0.62324178, 0.63823349, 0.6528409 , 0.66563062, 0.67704713,\n",
       "         0.68981365, 0.70118705, 0.71189475, 0.72170943, 0.731634  ,\n",
       "         0.74198614, 0.75130457, 0.75902445, 0.76628757, 0.77375587,\n",
       "         0.78117863, 0.78910831, 0.79573445, 0.80191282, 0.80870866,\n",
       "         0.81484456, 0.82103335, 0.82655497, 0.83209639, 0.83758305,\n",
       "         0.84260174, 0.84750821, 0.85176021, 0.85683855, 0.8615166 ,\n",
       "         0.86562102, 0.86944959, 0.87346353, 0.87715432, 0.88096494,\n",
       "         0.88422461, 0.88777675, 0.89151747, 0.89486866, 0.89873385,\n",
       "         0.90245102, 0.90631819, 0.90930934, 0.91247197, 0.91595131,\n",
       "         0.91897726, 0.921965  , 0.92581075, 0.92934555, 0.93326969,\n",
       "         0.93722432, 0.9409894 , 0.94475245, 0.94854122, 0.9522593 ,\n",
       "         0.95693551, 0.96191528, 0.96678407, 0.97174596, 0.97569828,\n",
       "         0.98003708, 0.98313497, 0.98553298, 0.98742973, 0.98881928,\n",
       "         0.98968039, 0.99059318, 0.991434  , 0.99199968, 0.99255441,\n",
       "         0.99300094, 0.99331384, 0.99358105, 0.9938543 , 0.99404941,\n",
       "         0.99421846, 0.99450454, 0.99493335, 0.99547911, 1.        ]),\n",
       "  'mean_fpr': array([0.        , 0.01010101, 0.02020202, 0.03030303, 0.04040404,\n",
       "         0.05050505, 0.06060606, 0.07070707, 0.08080808, 0.09090909,\n",
       "         0.1010101 , 0.11111111, 0.12121212, 0.13131313, 0.14141414,\n",
       "         0.15151515, 0.16161616, 0.17171717, 0.18181818, 0.19191919,\n",
       "         0.2020202 , 0.21212121, 0.22222222, 0.23232323, 0.24242424,\n",
       "         0.25252525, 0.26262626, 0.27272727, 0.28282828, 0.29292929,\n",
       "         0.3030303 , 0.31313131, 0.32323232, 0.33333333, 0.34343434,\n",
       "         0.35353535, 0.36363636, 0.37373737, 0.38383838, 0.39393939,\n",
       "         0.4040404 , 0.41414141, 0.42424242, 0.43434343, 0.44444444,\n",
       "         0.45454545, 0.46464646, 0.47474747, 0.48484848, 0.49494949,\n",
       "         0.50505051, 0.51515152, 0.52525253, 0.53535354, 0.54545455,\n",
       "         0.55555556, 0.56565657, 0.57575758, 0.58585859, 0.5959596 ,\n",
       "         0.60606061, 0.61616162, 0.62626263, 0.63636364, 0.64646465,\n",
       "         0.65656566, 0.66666667, 0.67676768, 0.68686869, 0.6969697 ,\n",
       "         0.70707071, 0.71717172, 0.72727273, 0.73737374, 0.74747475,\n",
       "         0.75757576, 0.76767677, 0.77777778, 0.78787879, 0.7979798 ,\n",
       "         0.80808081, 0.81818182, 0.82828283, 0.83838384, 0.84848485,\n",
       "         0.85858586, 0.86868687, 0.87878788, 0.88888889, 0.8989899 ,\n",
       "         0.90909091, 0.91919192, 0.92929293, 0.93939394, 0.94949495,\n",
       "         0.95959596, 0.96969697, 0.97979798, 0.98989899, 1.        ]),\n",
       "  'all_roc_auc': [0.9012986827457993,\n",
       "   0.8635741792773839,\n",
       "   0.9070444118030725,\n",
       "   0.6570910970089594,\n",
       "   0.7316124761411368],\n",
       "  'roc_auc': 0.7864363663358009,\n",
       "  'roc_auc_sd': 0.10022265622134617}}"
      ]
     },
     "execution_count": 9,
     "metadata": {},
     "output_type": "execute_result"
    }
   ],
   "source": [
    "all_metrics"
   ]
  },
  {
   "cell_type": "markdown",
   "id": "7007e45e-16c2-47a3-962c-92b9fe867bde",
   "metadata": {},
   "source": [
    "### Train gene classifier with all data:"
   ]
  },
  {
   "cell_type": "code",
   "execution_count": 10,
   "id": "6df82c21-937c-4563-ba6b-a52ce287f542",
   "metadata": {},
   "outputs": [],
   "source": [
    "import datetime\n",
    "import pickle\n",
    "from geneformer import Classifier\n",
    "\n",
    "current_date = datetime.datetime.now()\n",
    "datestamp = f\"{str(current_date.year)[-2:]}{current_date.month:02d}{current_date.day:02d}{current_date.hour:02d}{current_date.minute:02d}{current_date.second:02d}\"\n",
    "datestamp_min = f\"{str(current_date.year)[-2:]}{current_date.month:02d}{current_date.day:02d}\"\n",
    "\n",
    "\n",
    "output_prefix = \"tf_dosage_sens_alldata\"\n",
    "output_dir = f\"/part-vol-2/weaver-core/particle_transformer_quant/notebooks/Fun_Gen/output_directory_gene_class_pancreas/training_files/{datestamp}\"\n",
    "!mkdir $output_dir"
   ]
  },
  {
   "cell_type": "code",
   "execution_count": 11,
   "id": "f031131c-54fd-4ad1-a925-bf0846cc3235",
   "metadata": {},
   "outputs": [],
   "source": [
    "# Example input_data_file: https://huggingface.co/datasets/ctheodoris/Genecorpus-30M/blob/main/example_input_files/gene_classification/dosage_sensitive_tfs/dosage_sensitivity_TFs.pickle\n",
    "with open(\"/part-vol-2/weaver-core/particle_transformer_quant/notebooks/Fun_Gen/Data/Genecorpus-30M/example_input_files/gene_classification/dosage_sensitive_tfs/dosage_sensitivity_TFs.pickle\", \"rb\") as fp:\n",
    "    gene_class_dict = pickle.load(fp)"
   ]
  },
  {
   "cell_type": "code",
   "execution_count": 12,
   "id": "257a8ad4",
   "metadata": {},
   "outputs": [
    {
     "name": "stdout",
     "output_type": "stream",
     "text": [
      "Sun Jun  2 06:40:09 2024       \n",
      "+-----------------------------------------------------------------------------------------+\n",
      "| NVIDIA-SMI 550.76                 Driver Version: 550.76         CUDA Version: 12.4     |\n",
      "|-----------------------------------------+------------------------+----------------------+\n",
      "| GPU  Name                 Persistence-M | Bus-Id          Disp.A | Volatile Uncorr. ECC |\n",
      "| Fan  Temp   Perf          Pwr:Usage/Cap |           Memory-Usage | GPU-Util  Compute M. |\n",
      "|                                         |                        |               MIG M. |\n",
      "|=========================================+========================+======================|\n",
      "|   0  NVIDIA GeForce RTX 2080 Ti     On  |   00000000:3D:00.0 Off |                  N/A |\n",
      "|  0%   31C    P8              1W /  180W |    5515MiB /  11264MiB |      0%      Default |\n",
      "|                                         |                        |                  N/A |\n",
      "+-----------------------------------------+------------------------+----------------------+\n",
      "|   1  NVIDIA GeForce RTX 2080 Ti     On  |   00000000:61:00.0 Off |                  N/A |\n",
      "|  0%   29C    P8             20W /  180W |    1551MiB /  11264MiB |      0%      Default |\n",
      "|                                         |                        |                  N/A |\n",
      "+-----------------------------------------+------------------------+----------------------+\n",
      "                                                                                         \n",
      "+-----------------------------------------------------------------------------------------+\n",
      "| Processes:                                                                              |\n",
      "|  GPU   GI   CI        PID   Type   Process name                              GPU Memory |\n",
      "|        ID   ID                                                               Usage      |\n",
      "|=========================================================================================|\n",
      "+-----------------------------------------------------------------------------------------+\n"
     ]
    }
   ],
   "source": [
    "!nvidia-smi"
   ]
  },
  {
   "cell_type": "code",
   "execution_count": 13,
   "id": "cd27b15c-52d4-46a6-af8c-812c8731f82c",
   "metadata": {},
   "outputs": [
    {
     "name": "stderr",
     "output_type": "stream",
     "text": [
      "Hyperparameter tuning is highly recommended for optimal results. No training_args provided; using default hyperparameters.\n"
     ]
    }
   ],
   "source": [
    "cc = Classifier(classifier=\"gene\",\n",
    "                gene_class_dict = gene_class_dict,\n",
    "                max_ncells = 10_000,\n",
    "                freeze_layers = 4,\n",
    "                num_crossval_splits = 0,\n",
    "                forward_batch_size=32,\n",
    "                nproc=8)"
   ]
  },
  {
   "cell_type": "code",
   "execution_count": 14,
   "id": "3d542bda-fbab-4d63-ab58-00d4caa996b9",
   "metadata": {},
   "outputs": [
    {
     "name": "stderr",
     "output_type": "stream",
     "text": [
      "Saving the dataset (1/1 shards): 100%|██████████| 16381/16381 [00:00<00:00, 38084.45 examples/s]\n"
     ]
    }
   ],
   "source": [
    "# Example input_data_file: https://huggingface.co/datasets/ctheodoris/Genecorpus-30M/tree/main/example_input_files/gene_classification/dosage_sensitive_tfs/gc-30M_sample50k.dataset\n",
    "cc.prepare_data(input_data_file=\"/part-vol-2/weaver-core/particle_transformer_quant/notebooks/Fun_Gen/Data/Genecorpus-30M/Pancreas/data/datasets/geneformer/pancreas_scib/pancreas_scib.dataset\",\n",
    "                output_directory=output_dir,\n",
    "                output_prefix=output_prefix)"
   ]
  },
  {
   "cell_type": "code",
   "execution_count": 15,
   "id": "b8f421d0-c6b2-4ceb-af93-7f5276a6dfd7",
   "metadata": {},
   "outputs": [
    {
     "name": "stderr",
     "output_type": "stream",
     "text": [
      "Filter (num_proc=8): 100%|██████████| 16381/16381 [00:03<00:00, 5350.07 examples/s]\n",
      "Map (num_proc=8): 100%|██████████| 10000/10000 [00:02<00:00, 4377.84 examples/s]\n",
      "mkdir: cannot create directory ‘/part-vol-2/weaver-core/particle_transformer_quant/notebooks/Fun_Gen/output_directory_gene_class_pancreas/training_files/240602063947/240602_geneformer_geneClassifier_tf_dosage_sens_alldata/’: File exists\n",
      "Some weights of BertForTokenClassification were not initialized from the model checkpoint at /part-vol-2/weaver-core/particle_transformer_quant/notebooks/Fun_Gen/Geneformer and are newly initialized: ['classifier.bias', 'classifier.weight']\n",
      "You should probably TRAIN this model on a down-stream task to be able to use it for predictions and inference.\n",
      "/part-vol-2/.venv/lib/python3.10/site-packages/transformers/training_args.py:1474: FutureWarning: `evaluation_strategy` is deprecated and will be removed in version 4.46 of 🤗 Transformers. Use `eval_strategy` instead\n",
      "  warnings.warn(\n",
      "Detected kernel version 5.4.0, which is below the recommended minimum of 5.5.0; this can cause the process to hang. It is recommended to upgrade the kernel to the minimum version or higher.\n",
      "/part-vol-2/weaver-core/particle_transformer_quant/notebooks/Fun_Gen/Geneformer/geneformer/collator_for_classification.py:581: UserWarning: To copy construct from a tensor, it is recommended to use sourceTensor.clone().detach() or sourceTensor.clone().detach().requires_grad_(True), rather than torch.tensor(sourceTensor).\n",
      "  batch = {k: torch.tensor(v, dtype=torch.int64) for k, v in batch.items()}\n",
      "/part-vol-2/.venv/lib/python3.10/site-packages/torch/nn/parallel/_functions.py:68: UserWarning: Was asked to gather along dimension 0, but all input tensors were scalars; will instead unsqueeze and return a vector.\n",
      "  warnings.warn('Was asked to gather along dimension 0, but all '\n"
     ]
    },
    {
     "data": {
      "text/html": [
       "\n",
       "    <div>\n",
       "      \n",
       "      <progress value='417' max='417' style='width:300px; height:20px; vertical-align: middle;'></progress>\n",
       "      [417/417 03:06, Epoch 1/1]\n",
       "    </div>\n",
       "    <table border=\"1\" class=\"dataframe\">\n",
       "  <thead>\n",
       " <tr style=\"text-align: left;\">\n",
       "      <th>Step</th>\n",
       "      <th>Training Loss</th>\n",
       "    </tr>\n",
       "  </thead>\n",
       "  <tbody>\n",
       "    <tr>\n",
       "      <td>83</td>\n",
       "      <td>0.691500</td>\n",
       "    </tr>\n",
       "    <tr>\n",
       "      <td>166</td>\n",
       "      <td>0.578200</td>\n",
       "    </tr>\n",
       "    <tr>\n",
       "      <td>249</td>\n",
       "      <td>0.501300</td>\n",
       "    </tr>\n",
       "    <tr>\n",
       "      <td>332</td>\n",
       "      <td>0.386000</td>\n",
       "    </tr>\n",
       "    <tr>\n",
       "      <td>415</td>\n",
       "      <td>0.259200</td>\n",
       "    </tr>\n",
       "  </tbody>\n",
       "</table><p>"
      ],
      "text/plain": [
       "<IPython.core.display.HTML object>"
      ]
     },
     "metadata": {},
     "output_type": "display_data"
    }
   ],
   "source": [
    "# 6 layer Geneformer: https://huggingface.co/ctheodoris/Geneformer/blob/main/model.safetensors\n",
    "trainer_test = cc.train_all_data(model_directory=\"/part-vol-2/weaver-core/particle_transformer_quant/notebooks/Fun_Gen/Geneformer\",\n",
    "                                 prepared_input_data_file=f\"{output_dir}/{output_prefix}_labeled.dataset\",\n",
    "                                 id_class_dict_file=f\"{output_dir}/{output_prefix}_id_class_dict.pkl\",\n",
    "                                 output_directory=output_dir,\n",
    "                                 output_prefix=output_prefix)"
   ]
  },
  {
   "cell_type": "code",
   "execution_count": 16,
   "id": "6ec0fb2b",
   "metadata": {},
   "outputs": [
    {
     "name": "stdout",
     "output_type": "stream",
     "text": [
      "Sun Jun  2 06:44:36 2024       \n",
      "+-----------------------------------------------------------------------------------------+\n",
      "| NVIDIA-SMI 550.76                 Driver Version: 550.76         CUDA Version: 12.4     |\n",
      "|-----------------------------------------+------------------------+----------------------+\n",
      "| GPU  Name                 Persistence-M | Bus-Id          Disp.A | Volatile Uncorr. ECC |\n",
      "| Fan  Temp   Perf          Pwr:Usage/Cap |           Memory-Usage | GPU-Util  Compute M. |\n",
      "|                                         |                        |               MIG M. |\n",
      "|=========================================+========================+======================|\n",
      "|   0  NVIDIA GeForce RTX 2080 Ti     On  |   00000000:3D:00.0 Off |                  N/A |\n",
      "|  0%   58C    P2             72W /  180W |    1727MiB /  11264MiB |     93%      Default |\n",
      "|                                         |                        |                  N/A |\n",
      "+-----------------------------------------+------------------------+----------------------+\n",
      "|   1  NVIDIA GeForce RTX 2080 Ti     On  |   00000000:61:00.0 Off |                  N/A |\n",
      "|  0%   56C    P2             96W /  180W |    1599MiB /  11264MiB |     88%      Default |\n",
      "|                                         |                        |                  N/A |\n",
      "+-----------------------------------------+------------------------+----------------------+\n",
      "                                                                                         \n",
      "+-----------------------------------------------------------------------------------------+\n",
      "| Processes:                                                                              |\n",
      "|  GPU   GI   CI        PID   Type   Process name                              GPU Memory |\n",
      "|        ID   ID                                                               Usage      |\n",
      "|=========================================================================================|\n",
      "+-----------------------------------------------------------------------------------------+\n"
     ]
    }
   ],
   "source": [
    "!nvidia-smi"
   ]
  },
  {
   "cell_type": "code",
   "execution_count": null,
   "id": "6901b201",
   "metadata": {},
   "outputs": [],
   "source": []
  }
 ],
 "metadata": {
  "kernelspec": {
   "display_name": "Python 3 (ipykernel)",
   "language": "python",
   "name": "python3"
  },
  "language_info": {
   "codemirror_mode": {
    "name": "ipython",
    "version": 3
   },
   "file_extension": ".py",
   "mimetype": "text/x-python",
   "name": "python",
   "nbconvert_exporter": "python",
   "pygments_lexer": "ipython3",
   "version": "3.8.10"
  }
 },
 "nbformat": 4,
 "nbformat_minor": 5
}
